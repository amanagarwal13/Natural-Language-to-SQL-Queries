{
 "cells": [
  {
   "cell_type": "code",
   "execution_count": null,
   "id": "8PfUtSEG4JmM",
   "metadata": {
    "colab": {
     "base_uri": "https://localhost:8080/"
    },
    "id": "8PfUtSEG4JmM",
    "outputId": "fbc86df1-6406-42e0-bb9a-5e8790e70772"
   },
   "outputs": [],
   "source": [
    "pip install transformers"
   ]
  },
  {
   "cell_type": "code",
   "execution_count": null,
   "id": "849be985",
   "metadata": {},
   "outputs": [],
   "source": [
    "pip install SentencePiece"
   ]
  },
  {
   "cell_type": "code",
   "execution_count": null,
   "id": "ff0b7bcd",
   "metadata": {},
   "outputs": [],
   "source": [
    "pip install pandas"
   ]
  },
  {
   "cell_type": "code",
   "execution_count": null,
   "id": "6abff5b1",
   "metadata": {},
   "outputs": [],
   "source": [
    "pip install accelerate -U"
   ]
  },
  {
   "cell_type": "code",
   "execution_count": 45,
   "id": "d7439e0a",
   "metadata": {
    "id": "d7439e0a"
   },
   "outputs": [],
   "source": [
    "import torch\n",
    "import tensorflow as tf\n",
    "import pandas as pd\n",
    "from torch.utils.data import Dataset\n",
    "from transformers import T5Tokenizer, T5ForConditionalGeneration\n",
    "from transformers import Trainer, TrainingArguments\n",
    "import mysql.connector\n"
   ]
  },
  {
   "cell_type": "code",
   "execution_count": 46,
   "id": "af685170",
   "metadata": {
    "id": "af685170"
   },
   "outputs": [],
   "source": [
    "class SQLDataset(Dataset):\n",
    "    def __init__(self, df, tokenizer):\n",
    "        self.questions = df['question'].tolist()\n",
    "        self.queries = df['sql'].tolist()\n",
    "        self.tokenizer = tokenizer\n",
    "\n",
    "    def __len__(self):\n",
    "        return len(self.questions)\n",
    "\n",
    "    def __getitem__(self, idx):\n",
    "        question = self.questions[idx]\n",
    "        query = self.queries[idx]\n",
    "\n",
    "        inputs = self.tokenizer.encode_plus(\n",
    "            question,\n",
    "            padding='max_length',\n",
    "            truncation=True,\n",
    "            max_length=128,\n",
    "            return_tensors='pt'\n",
    "        )\n",
    "        labels = self.tokenizer.encode(\n",
    "            query,\n",
    "            padding='max_length',\n",
    "            truncation=True,\n",
    "            max_length=64,\n",
    "            return_tensors='pt'\n",
    "        )\n",
    "\n",
    "        return {\n",
    "            'input_ids': inputs.input_ids.squeeze(),\n",
    "            'attention_mask': inputs.attention_mask.squeeze(),\n",
    "            'labels': labels.squeeze()\n",
    "        }"
   ]
  },
  {
   "cell_type": "code",
   "execution_count": 47,
   "id": "af3ad834",
   "metadata": {
    "id": "af3ad834"
   },
   "outputs": [],
   "source": [
    "df = pd.read_csv('merged_dataset.csv')"
   ]
  },
  {
   "cell_type": "code",
   "execution_count": 48,
   "id": "d1b33be9",
   "metadata": {
    "colab": {
     "base_uri": "https://localhost:8080/",
     "height": 206
    },
    "id": "d1b33be9",
    "outputId": "b16daab9-b1f0-4651-f98e-ae2024738926"
   },
   "outputs": [
    {
     "data": {
      "text/html": [
       "<div>\n",
       "<style scoped>\n",
       "    .dataframe tbody tr th:only-of-type {\n",
       "        vertical-align: middle;\n",
       "    }\n",
       "\n",
       "    .dataframe tbody tr th {\n",
       "        vertical-align: top;\n",
       "    }\n",
       "\n",
       "    .dataframe thead th {\n",
       "        text-align: right;\n",
       "    }\n",
       "</style>\n",
       "<table border=\"1\" class=\"dataframe\">\n",
       "  <thead>\n",
       "    <tr style=\"text-align: right;\">\n",
       "      <th></th>\n",
       "      <th>question</th>\n",
       "      <th>sql</th>\n",
       "    </tr>\n",
       "  </thead>\n",
       "  <tbody>\n",
       "    <tr>\n",
       "      <th>0</th>\n",
       "      <td>Tell me what the notes are for South Australia</td>\n",
       "      <td>SELECT Notes FROM table WHERE Current slogan =...</td>\n",
       "    </tr>\n",
       "    <tr>\n",
       "      <th>1</th>\n",
       "      <td>What is the current series where the new serie...</td>\n",
       "      <td>SELECT Current series FROM table WHERE Notes =...</td>\n",
       "    </tr>\n",
       "    <tr>\n",
       "      <th>2</th>\n",
       "      <td>What is the format for South Australia?</td>\n",
       "      <td>SELECT Format FROM table WHERE State/territory...</td>\n",
       "    </tr>\n",
       "    <tr>\n",
       "      <th>3</th>\n",
       "      <td>Name the background colour for the Australian ...</td>\n",
       "      <td>SELECT Text/background colour FROM table WHERE...</td>\n",
       "    </tr>\n",
       "    <tr>\n",
       "      <th>4</th>\n",
       "      <td>how many times is the fuel propulsion is cng?</td>\n",
       "      <td>SELECT COUNT Fleet Series (Quantity) FROM tabl...</td>\n",
       "    </tr>\n",
       "  </tbody>\n",
       "</table>\n",
       "</div>"
      ],
      "text/plain": [
       "                                            question  \\\n",
       "0    Tell me what the notes are for South Australia    \n",
       "1  What is the current series where the new serie...   \n",
       "2            What is the format for South Australia?   \n",
       "3  Name the background colour for the Australian ...   \n",
       "4      how many times is the fuel propulsion is cng?   \n",
       "\n",
       "                                                 sql  \n",
       "0  SELECT Notes FROM table WHERE Current slogan =...  \n",
       "1  SELECT Current series FROM table WHERE Notes =...  \n",
       "2  SELECT Format FROM table WHERE State/territory...  \n",
       "3  SELECT Text/background colour FROM table WHERE...  \n",
       "4  SELECT COUNT Fleet Series (Quantity) FROM tabl...  "
      ]
     },
     "execution_count": 48,
     "metadata": {},
     "output_type": "execute_result"
    }
   ],
   "source": [
    "df.head()"
   ]
  },
  {
   "cell_type": "code",
   "execution_count": 49,
   "id": "624ba77f",
   "metadata": {
    "id": "624ba77f"
   },
   "outputs": [],
   "source": [
    "train_data = df\n",
    "valid_data = df[40000:45000]\n",
    "#test_data = df[45000:]"
   ]
  },
  {
   "cell_type": "code",
   "execution_count": 53,
   "id": "dc1180bb",
   "metadata": {
    "colab": {
     "base_uri": "https://localhost:8080/"
    },
    "id": "dc1180bb",
    "outputId": "80459e41-bd05-4f99-8423-105d99faf158"
   },
   "outputs": [],
   "source": [
    "output_dir = './fine-tuned-model'\n",
    "tokenizer = T5Tokenizer.from_pretrained('t5-base')\n",
    "model = T5ForConditionalGeneration.from_pretrained(output_dir)"
   ]
  },
  {
   "cell_type": "code",
   "execution_count": 54,
   "id": "37fe444a",
   "metadata": {
    "id": "37fe444a"
   },
   "outputs": [],
   "source": [
    "dataset1 = SQLDataset(train_data, tokenizer)\n",
    "dataset2 = SQLDataset(valid_data, tokenizer)"
   ]
  },
  {
   "cell_type": "code",
   "execution_count": 55,
   "id": "070977da",
   "metadata": {
    "colab": {
     "base_uri": "https://localhost:8080/"
    },
    "id": "070977da",
    "outputId": "e3e2d7c3-d3bd-4658-a33b-5661a338bff4"
   },
   "outputs": [
    {
     "data": {
      "text/plain": [
       "{'input_ids': tensor([8779,  140,  125,    8, 3358,   33,   21, 1013, 2051,    1,    0,    0,\n",
       "            0,    0,    0,    0,    0,    0,    0,    0,    0,    0,    0,    0,\n",
       "            0,    0,    0,    0,    0,    0,    0,    0,    0,    0,    0,    0,\n",
       "            0,    0,    0,    0,    0,    0,    0,    0,    0,    0,    0,    0,\n",
       "            0,    0,    0,    0,    0,    0,    0,    0,    0,    0,    0,    0,\n",
       "            0,    0,    0,    0,    0,    0,    0,    0,    0,    0,    0,    0,\n",
       "            0,    0,    0,    0,    0,    0,    0,    0,    0,    0,    0,    0,\n",
       "            0,    0,    0,    0,    0,    0,    0,    0,    0,    0,    0,    0,\n",
       "            0,    0,    0,    0,    0,    0,    0,    0,    0,    0,    0,    0,\n",
       "            0,    0,    0,    0,    0,    0,    0,    0,    0,    0,    0,    0,\n",
       "            0,    0,    0,    0,    0,    0,    0,    0]),\n",
       " 'attention_mask': tensor([1, 1, 1, 1, 1, 1, 1, 1, 1, 1, 0, 0, 0, 0, 0, 0, 0, 0, 0, 0, 0, 0, 0, 0,\n",
       "         0, 0, 0, 0, 0, 0, 0, 0, 0, 0, 0, 0, 0, 0, 0, 0, 0, 0, 0, 0, 0, 0, 0, 0,\n",
       "         0, 0, 0, 0, 0, 0, 0, 0, 0, 0, 0, 0, 0, 0, 0, 0, 0, 0, 0, 0, 0, 0, 0, 0,\n",
       "         0, 0, 0, 0, 0, 0, 0, 0, 0, 0, 0, 0, 0, 0, 0, 0, 0, 0, 0, 0, 0, 0, 0, 0,\n",
       "         0, 0, 0, 0, 0, 0, 0, 0, 0, 0, 0, 0, 0, 0, 0, 0, 0, 0, 0, 0, 0, 0, 0, 0,\n",
       "         0, 0, 0, 0, 0, 0, 0, 0]),\n",
       " 'labels': tensor([    3, 23143, 14196,  2507,     7, 21680,   953,   549, 17444,   427,\n",
       "         12892, 22031,  3274,   180,  9744,   566,     3,  6727, 13733, 24933,\n",
       "           188,     1,     0,     0,     0,     0,     0,     0,     0,     0,\n",
       "             0,     0,     0,     0,     0,     0,     0,     0,     0,     0,\n",
       "             0,     0,     0,     0,     0,     0,     0,     0,     0,     0,\n",
       "             0,     0,     0,     0,     0,     0,     0,     0,     0,     0,\n",
       "             0,     0,     0,     0])}"
      ]
     },
     "execution_count": 55,
     "metadata": {},
     "output_type": "execute_result"
    }
   ],
   "source": [
    "dataset1[0]"
   ]
  },
  {
   "cell_type": "code",
   "execution_count": 56,
   "id": "1e47e265",
   "metadata": {
    "id": "1e47e265"
   },
   "outputs": [
    {
     "name": "stdout",
     "output_type": "stream",
     "text": [
      "WARNING:tensorflow:From C:\\Users\\MSI1\\AppData\\Local\\Temp\\ipykernel_7764\\1852168825.py:1: is_gpu_available (from tensorflow.python.framework.test_util) is deprecated and will be removed in a future version.\n",
      "Instructions for updating:\n",
      "Use `tf.config.list_physical_devices('GPU')` instead.\n"
     ]
    }
   ],
   "source": [
    "device = torch.device('cuda' if tf.test.is_gpu_available() else 'cpu')"
   ]
  },
  {
   "cell_type": "code",
   "execution_count": 57,
   "id": "68192c9c",
   "metadata": {},
   "outputs": [
    {
     "data": {
      "text/plain": [
       "False"
      ]
     },
     "execution_count": 57,
     "metadata": {},
     "output_type": "execute_result"
    }
   ],
   "source": [
    "tf.test.is_gpu_available()"
   ]
  },
  {
   "cell_type": "code",
   "execution_count": 58,
   "id": "1f42f0dd",
   "metadata": {
    "colab": {
     "base_uri": "https://localhost:8080/"
    },
    "id": "1f42f0dd",
    "outputId": "ead5d4af-416e-4889-f459-92554b24bdaf",
    "scrolled": false
   },
   "outputs": [
    {
     "name": "stdout",
     "output_type": "stream",
     "text": [
      "cpu\n"
     ]
    }
   ],
   "source": [
    "model=model.to(device)\n",
    "print(model.device)"
   ]
  },
  {
   "cell_type": "code",
   "execution_count": null,
   "id": "c6555932",
   "metadata": {
    "id": "c6555932"
   },
   "outputs": [],
   "source": [
    "# Define the training arguments\n",
    "training_args = TrainingArguments(\n",
    "    output_dir='./output',\n",
    "    num_train_epochs=1,\n",
    "    per_device_train_batch_size=16,\n",
    "    per_device_eval_batch_size=16,\n",
    "    learning_rate=1e-5,\n",
    "    save_total_limit=1,\n",
    "    #fp16=True,  # Enable mixed-precision training if available\n",
    "    logging_dir='./logs',\n",
    "    logging_steps=100,\n",
    "    save_steps=500,\n",
    ")"
   ]
  },
  {
   "cell_type": "code",
   "execution_count": null,
   "id": "a7650bb5",
   "metadata": {
    "id": "a7650bb5"
   },
   "outputs": [],
   "source": [
    "trainer = Trainer(\n",
    "    model=model,\n",
    "    args=training_args,\n",
    "    train_dataset=dataset1,\n",
    "    eval_dataset=dataset2,\n",
    ")\n"
   ]
  },
  {
   "cell_type": "code",
   "execution_count": null,
   "id": "d5fbc05f",
   "metadata": {
    "colab": {
     "base_uri": "https://localhost:8080/",
     "height": 1000
    },
    "id": "d5fbc05f",
    "outputId": "e37732e7-c133-49ae-c76e-0cab837bf13d"
   },
   "outputs": [],
   "source": [
    "trainer.train()"
   ]
  },
  {
   "cell_type": "code",
   "execution_count": null,
   "id": "7abf41d5",
   "metadata": {
    "id": "7abf41d5"
   },
   "outputs": [],
   "source": [
    "output_dir = './fine-tuned-model'\n",
    "trainer.save_model(output_dir)"
   ]
  },
  {
   "cell_type": "code",
   "execution_count": null,
   "id": "mzhWQqskSb2P",
   "metadata": {
    "colab": {
     "base_uri": "https://localhost:8080/",
     "height": 54
    },
    "id": "mzhWQqskSb2P",
    "outputId": "14ce78ef-5a3e-4257-9dee-1e462819fec6"
   },
   "outputs": [],
   "source": [
    "results = trainer.evaluate(dataset2)\n",
    "print(results)"
   ]
  },
  {
   "cell_type": "code",
   "execution_count": 69,
   "id": "EImPNHF0-Bsf",
   "metadata": {
    "colab": {
     "base_uri": "https://localhost:8080/"
    },
    "id": "EImPNHF0-Bsf",
    "outputId": "c0cc219a-fd66-4183-a362-81ebae922b96"
   },
   "outputs": [
    {
     "name": "stdout",
     "output_type": "stream",
     "text": [
      "Generated SQL Query: <pad> SELECT Name,Population FROM table WHERE Countrycode = NLD</s>\n"
     ]
    }
   ],
   "source": [
    "input_question = \"Find the name,population which has countrycode NLD\"\n",
    "input_encoded = tokenizer.encode_plus(\n",
    "    input_question,\n",
    "    padding='max_length',\n",
    "    truncation=True,\n",
    "    max_length=128,\n",
    "    return_tensors='pt'\n",
    ").to(device)\n",
    "\n",
    "generated = model.generate(\n",
    "    input_ids=input_encoded.input_ids,\n",
    "    attention_mask=input_encoded.attention_mask,\n",
    "    max_length=64,\n",
    "    num_beams=4,\n",
    "    early_stopping=True\n",
    ")\n",
    "generated_query = tokenizer.decode(generated.squeeze())\n",
    "\n",
    "print(\"Generated SQL Query:\", generated_query)"
   ]
  },
  {
   "cell_type": "code",
   "execution_count": 60,
   "id": "104018ae",
   "metadata": {},
   "outputs": [
    {
     "name": "stdout",
     "output_type": "stream",
     "text": [
      "['population', 'district', 'kabol']\n"
     ]
    }
   ],
   "source": [
    "import spacy\n",
    "\n",
    "def extract_keywords(user_query):\n",
    "\n",
    "    nlp = spacy.load(\"en_core_web_sm\")\n",
    "\n",
    "    doc = nlp(user_query)\n",
    "\n",
    "    keywords = [token.text.lower() for token in doc if token.pos_ in {\"NOUN\", \"PROPN\", \"ADJ\"}]\n",
    "\n",
    "    return keywords\n",
    "\n",
    "keywords = extract_keywords(user_query)\n",
    "print(keywords)\n"
   ]
  },
  {
   "cell_type": "code",
   "execution_count": 61,
   "id": "becfa455",
   "metadata": {},
   "outputs": [],
   "source": [
    "def jaccard_similarity(set1, set2):\n",
    "    intersection = len(set1.intersection(set2))\n",
    "    union = len(set1.union(set2))\n",
    "    return intersection / union if union != 0 else 0"
   ]
  },
  {
   "cell_type": "code",
   "execution_count": 62,
   "id": "82647c6c",
   "metadata": {},
   "outputs": [
    {
     "name": "stdout",
     "output_type": "stream",
     "text": [
      "['population', 'district', 'kabol']\n",
      "['ID', 'Name', 'CountryCode', 'District', 'Population']\n",
      "[0.0, 0.0, 0.0, 0.3333333333333333, 0.3333333333333333]\n",
      "0.2\n",
      "['Code', 'Name', 'Continent', 'Region', 'SurfaceArea', 'IndepYear', 'Population', 'LifeExpectancy', 'GNP', 'GNPOld', 'LocalName', 'GovernmentForm', 'HeadOfState', 'Capital', 'Code2']\n",
      "[0.0, 0.0, 0.0, 0.0, 0.0, 0.0, 0.3333333333333333, 0.0, 0.0, 0.0, 0.0, 0.0, 0.0, 0.0, 0.0]\n",
      "0.2\n",
      "['CountryCode', 'Language', 'IsOfficial', 'Percentage']\n",
      "[0.0, 0.0, 0.0, 0.0]\n",
      "0.2\n",
      "{'city': 'District', 'country': 'Population'}\n",
      "Threshold {'city': 0.6666666666666666, 'country': 0.3333333333333333, 'countrylanguage': 0.0}\n",
      "Identified table name: city\n",
      "Associated column name: District\n"
     ]
    }
   ],
   "source": [
    "import mysql.connector\n",
    "from difflib import SequenceMatcher\n",
    "\n",
    "def extract_table_name_with_columns(user_query):\n",
    "    conn = mysql.connector.connect(\n",
    "        host=\"localhost\",\n",
    "        user=\"root\",\n",
    "        password=\"Aman@7221\",\n",
    "        database=\"world\"\n",
    "    )\n",
    "    cursor = conn.cursor()\n",
    "\n",
    "    cursor.execute(\"SHOW TABLES;\")\n",
    "    table_names = [table[0] for table in cursor.fetchall()]\n",
    "\n",
    "    table_columns_mapping = {}\n",
    "\n",
    "    keywords = extract_keywords(user_query)\n",
    "    print(keywords)\n",
    "    \n",
    "    similarity_sums = {}\n",
    "    for table_name in table_names:\n",
    "        cursor.execute(f\"SHOW COLUMNS FROM {table_name};\")\n",
    "        column_names = [column[0] for column in cursor.fetchall()]\n",
    "        print(column_names)\n",
    "        \n",
    "        # Compute Jaccard similarity between keywords and each column name\n",
    "        similarities = [jaccard_similarity(set(keywords), set(column_name.lower().split())) for column_name in column_names]\n",
    "        print(similarities)\n",
    "        sum_similarity=sum(similarities)\n",
    "        similarity_sums[table_name]=sum_similarity\n",
    "        \n",
    "        # Find the column name with the highest similarity score\n",
    "        max_similarity_index = similarities.index(max(similarities))\n",
    "        max_similarity_score = similarities[max_similarity_index]\n",
    "\n",
    "        threshold = 0.2\n",
    "        print(threshold)\n",
    "        if max_similarity_score >= threshold:\n",
    "            table_columns_mapping[table_name] = column_names[max_similarity_index]\n",
    "            \n",
    "    print(table_columns_mapping)\n",
    "    print(\"Threshold\",similarity_sums)\n",
    "    \n",
    "    max_key = max(similarity_sums, key=lambda k: similarity_sums[k])\n",
    "\n",
    "    print(\"Identified table name:\", max_key)\n",
    "    print(\"Associated column name:\", table_columns_mapping[max_key])\n",
    "    return(max_key)\n",
    "\n",
    "    cursor.close()\n",
    "    conn.close()\n",
    "\n",
    "max_key=extract_table_name_with_columns(user_query)\n"
   ]
  },
  {
   "cell_type": "code",
   "execution_count": 63,
   "id": "97bbfecb",
   "metadata": {},
   "outputs": [],
   "source": [
    "def cosine_similarity(vector1, vector2):\n",
    "    dot_product = sum(v1 * v2 for v1, v2 in zip(vector1, vector2))\n",
    "    norm1 = math.sqrt(sum(v1 ** 2 for v1 in vector1))\n",
    "    norm2 = math.sqrt(sum(v2 ** 2 for v2 in vector2))\n",
    "    if norm1 == 0 or norm2 == 0:\n",
    "        return 0.0\n",
    "    \n",
    "    return dot_product / (norm1 * norm2)"
   ]
  },
  {
   "cell_type": "code",
   "execution_count": 64,
   "id": "9b8f559a",
   "metadata": {},
   "outputs": [
    {
     "name": "stdout",
     "output_type": "stream",
     "text": [
      "['population', 'district', 'kabol']\n",
      "['ID', 'Name', 'CountryCode', 'District', 'Population']\n",
      "0.6324555320336759\n",
      "['Code', 'Name', 'Continent', 'Region', 'SurfaceArea', 'IndepYear', 'Population', 'LifeExpectancy', 'GNP', 'GNPOld', 'LocalName', 'GovernmentForm', 'HeadOfState', 'Capital', 'Code2']\n",
      "0.2581988897471611\n",
      "['CountryCode', 'Language', 'IsOfficial', 'Percentage']\n",
      "0.0\n",
      "{'city': 0.6324555320336759, 'country': 0.2581988897471611, 'countrylanguage': 0.0}\n",
      "Identified table name: city\n"
     ]
    }
   ],
   "source": [
    "def extract_table_name_with_columns(user_query):\n",
    "    conn = mysql.connector.connect(\n",
    "        host=\"localhost\",\n",
    "        user=\"root\",\n",
    "        password=\"Aman@7221\",\n",
    "        database=\"world\"\n",
    "    )\n",
    "    cursor = conn.cursor()\n",
    "\n",
    "    cursor.execute(\"SHOW TABLES;\")\n",
    "    table_names = [table[0] for table in cursor.fetchall()]\n",
    "\n",
    "    table_columns_mapping = {}\n",
    "\n",
    "    keywords = extract_keywords(user_query)\n",
    "    print(keywords)\n",
    "    \n",
    "    similarity_sums = {}\n",
    "    for table_name in table_names:\n",
    "        cursor.execute(f\"SHOW COLUMNS FROM {table_name};\")\n",
    "        column_names = [column[0] for column in cursor.fetchall()]\n",
    "        print(column_names)\n",
    "        \n",
    "        # Compute cosine similarity between keywords and each column name\n",
    "        vector1 = [1 if any(keyword.lower() in col_name.lower() for col_name in column_names) else 0 for keyword in keywords]\n",
    "        vector2 = [1 if any(keyword.lower() in col_name.lower() for col_name in column_names) else 0 for keyword in column_names]\n",
    "        similarity = cosine_similarity(vector1, vector2)\n",
    "        print(similarity)\n",
    "        similarity_sums[table_name]=similarity\n",
    "    \n",
    "    max_key = max(similarity_sums, key=lambda k: similarity_sums[k])\n",
    "    print(similarity_sums)\n",
    "    print(\"Identified table name:\", max_key)\n",
    "    return max_key\n",
    "\n",
    "    cursor.close()\n",
    "    conn.close()\n",
    "\n",
    "max_key = extract_table_name_with_columns(user_query)\n"
   ]
  },
  {
   "cell_type": "code",
   "execution_count": 67,
   "id": "9bd33044",
   "metadata": {},
   "outputs": [
    {
     "name": "stdout",
     "output_type": "stream",
     "text": [
      "<pad> SELECT Population FROM city WHERE District = kabol</s>\n"
     ]
    }
   ],
   "source": [
    "def change_next_word(text, particular_word, new_word):\n",
    "    words = text.split()  \n",
    "    for i, word in enumerate(words[:-1]):  \n",
    "        if word == particular_word:\n",
    "            words[i + 1] = new_word \n",
    "    return ' '.join(words)\n",
    "\n",
    "max_key=str(max_key)\n",
    "modified_text = change_next_word(generated_query, \"FROM\", max_key)\n",
    "print(modified_text)\n"
   ]
  },
  {
   "cell_type": "code",
   "execution_count": null,
   "id": "964512ee",
   "metadata": {},
   "outputs": [],
   "source": []
  },
  {
   "cell_type": "code",
   "execution_count": null,
   "id": "6588dbe7",
   "metadata": {},
   "outputs": [],
   "source": []
  }
 ],
 "metadata": {
  "accelerator": "GPU",
  "colab": {
   "gpuType": "T4",
   "provenance": []
  },
  "kernelspec": {
   "display_name": "Python 3 (ipykernel)",
   "language": "python",
   "name": "python3"
  },
  "language_info": {
   "codemirror_mode": {
    "name": "ipython",
    "version": 3
   },
   "file_extension": ".py",
   "mimetype": "text/x-python",
   "name": "python",
   "nbconvert_exporter": "python",
   "pygments_lexer": "ipython3",
   "version": "3.10.9"
  }
 },
 "nbformat": 4,
 "nbformat_minor": 5
}
